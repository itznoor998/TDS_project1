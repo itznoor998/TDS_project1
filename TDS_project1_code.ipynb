{
  "nbformat": 4,
  "nbformat_minor": 0,
  "metadata": {
    "colab": {
      "provenance": [],
      "collapsed_sections": [
        "Gqskz19sxWZm",
        "T0PkJ2knxdKJ",
        "oA0JYRlVxkcl",
        "yOPMvAm2CpZ-",
        "qw6KaGe9ac0B",
        "bdNKT3ls_u3N",
        "hsbfZmEn653x",
        "lMUn8FbOJ8o1"
      ]
    },
    "kernelspec": {
      "name": "python3",
      "display_name": "Python 3"
    },
    "language_info": {
      "name": "python"
    }
  },
  "cells": [
    {
      "cell_type": "markdown",
      "source": [
        "## Git Token\n",
        "  ##### Replace **your_personal_token** wtih git personal token."
      ],
      "metadata": {
        "id": "f-QVjYVujMg4"
      }
    },
    {
      "cell_type": "markdown",
      "source": [
        "### Fecth User data and save as users.csv"
      ],
      "metadata": {
        "id": "T0PkJ2knxdKJ"
      }
    },
    {
      "cell_type": "code",
      "source": [
        "import requests\n",
        "import csv\n",
        "\n",
        "# GitHub API base URL\n",
        "BASE_URL = \"https://api.github.com\"\n",
        "\n",
        "TOKEN = 'your_personal_token'  #token\n",
        "CITY = 'Zurich'\n",
        "MIN_FOLLOWERS = 50\n",
        "users = []\n",
        "HEADERS = {\n",
        "        'Authorization': f'token {TOKEN}',\n",
        "        'Accept': 'application/vnd.github.v3+json'\n",
        "    }\n",
        "\n",
        "def get_users_in_zurich():\n",
        "    url = f\"{BASE_URL}/search/users\"\n",
        "    query = f'location:{CITY} followers:>{MIN_FOLLOWERS}'\n",
        "    page = 1\n",
        "    while True:\n",
        "      params = {'q': query, 'page': page, 'per_page': 100}  # Fetch up to 100 users per page\n",
        "      response = requests.get(url, headers=HEADERS, params=params)\n",
        "\n",
        "      if response.status_code == 200:\n",
        "          data = response.json()\n",
        "          users.extend(data['items'])\n",
        "          if 'next' in response.links:  # Check if there is a next page\n",
        "            page += 1\n",
        "          else:\n",
        "            break\n",
        "      else:\n",
        "          print(\"Error fetching users:\", response.json())\n",
        "          return []\n",
        "\n",
        "def get_user_info(username):\n",
        "    url = f\"{BASE_URL}/users/{username}\"\n",
        "    response = requests.get(url, headers=HEADERS)\n",
        "\n",
        "    if response.status_code == 200:\n",
        "        return response.json()\n",
        "    else:\n",
        "        print(f\"Error fetching info for {username}:\", response.json())\n",
        "        return None\n",
        "\n",
        "def get_user_repos(username):\n",
        "    url = f\"{BASE_URL}/users/{username}/repos\"\n",
        "    response = requests.get(url, headers=HEADERS)\n",
        "\n",
        "    if response.status_code == 200:\n",
        "        return response.json()\n",
        "    else:\n",
        "        print(f\"Error fetching repos for {username}:\", response.json())\n",
        "        return []\n",
        "\n",
        "def save_to_csv(data, filename='users.csv'):\n",
        "    with open(filename, mode='w', newline='', encoding='utf-8') as file:\n",
        "        writer = csv.writer(file)\n",
        "        # Write the header\n",
        "        writer.writerow([\n",
        "            'login', 'name', 'company', 'location', 'email',\n",
        "            'hireable', 'bio', 'public_repos', 'followers',\n",
        "            'following', 'created_at'\n",
        "        ])\n",
        "        # Write the user data\n",
        "        for user in data:\n",
        "            writer.writerow(user)\n",
        "\n",
        "def main():\n",
        "    get_users_in_zurich()\n",
        "    user_data = []\n",
        "\n",
        "    for user in users:\n",
        "        username = user['login']\n",
        "        user_info = get_user_info(username)\n",
        "\n",
        "        if user_info:\n",
        "            company = user_info['company']\n",
        "            if company:\n",
        "              company = company.upper()\n",
        "\n",
        "            repos = get_user_repos(username)\n",
        "            public_repos_count = len(repos)\n",
        "            created_at = user_info['created_at']\n",
        "            email = user_info['email']\n",
        "\n",
        "            user_data.append([\n",
        "                user_info['login'],\n",
        "                user_info['name'],\n",
        "                company,\n",
        "                user_info['location'],\n",
        "                email,\n",
        "                user_info['hireable'],\n",
        "                user_info['bio'],\n",
        "                public_repos_count,\n",
        "                user_info['followers'],\n",
        "                user_info['following'],\n",
        "                created_at\n",
        "            ])\n",
        "\n",
        "    # Save the data to a CSV file\n",
        "    save_to_csv(user_data)\n",
        "\n",
        "if __name__ == \"__main__\":\n",
        "    main()\n"
      ],
      "metadata": {
        "collapsed": true,
        "id": "CalylrFJmvWs"
      },
      "execution_count": null,
      "outputs": []
    },
    {
      "cell_type": "markdown",
      "source": [
        "### Fetch User repos data and save it as repositories.csv"
      ],
      "metadata": {
        "id": "oA0JYRlVxkcl"
      }
    },
    {
      "cell_type": "code",
      "source": [
        "import requests\n",
        "import pandas as pd\n",
        "\n",
        "# GitHub API base URL\n",
        "BASE_URL = \"https://api.github.com\"\n",
        "\n",
        "# Define the headers for the API requests\n",
        "HEADERS = {\n",
        "    \"Authorization\": \"token your_personal_token\"  #personal access token\n",
        "}\n",
        "\n",
        "def get_user_repos(username):\n",
        "    \"\"\"Fetch the repositories for a given GitHub user.\"\"\"\n",
        "    url = f\"{BASE_URL}/users/{username}/repos?sort=pushed&per_page=100\"  # Changed to 100 for better pagination\n",
        "    response = requests.get(url, headers=HEADERS)\n",
        "\n",
        "    if response.status_code == 200:\n",
        "        return response.json()\n",
        "    else:\n",
        "        print(f\"Error fetching repos for {username}: {response.json()}\")\n",
        "        return []\n",
        "\n",
        "def main():\n",
        "    \"\"\"Main function to load users from CSV, fetch their repositories, and save the data to another CSV.\"\"\"\n",
        "    try:\n",
        "        # Load users from CSV\n",
        "        users_df = pd.read_csv('users.csv')\n",
        "    except FileNotFoundError:\n",
        "        print(\"Error: users.csv file not found.\")\n",
        "        return\n",
        "\n",
        "    repositories_data = []\n",
        "\n",
        "    for _, user in users_df.iterrows():\n",
        "        username = user['login']\n",
        "        repos = get_user_repos(username)\n",
        "\n",
        "        for repo in repos:\n",
        "            repo_data = {\n",
        "                'login': username,\n",
        "                'full_name': repo['full_name'],\n",
        "                'created_at': repo['created_at'],\n",
        "                'stargazers_count': repo['stargazers_count'],\n",
        "                'watchers_count': repo['watchers_count'],\n",
        "                'language': repo['language'],\n",
        "                'has_projects': repo['has_projects'],\n",
        "                'has_wiki': repo['has_wiki'],\n",
        "                'license_name': repo['license']['name'] if repo['license'] else 'No License'\n",
        "            }\n",
        "            repositories_data.append(repo_data)\n",
        "\n",
        "    # Check if any repositories have been collected before saving\n",
        "    if repositories_data:\n",
        "        # Create a DataFrame and save to CSV\n",
        "        repositories_df = pd.DataFrame(repositories_data)\n",
        "        repositories_df.to_csv('repositories.csv', index=False)\n",
        "        print(\"Repositories data saved to repositories.csv\")\n",
        "    else:\n",
        "        print(\"No repositories found.\")\n",
        "\n",
        "if __name__ == \"__main__\":\n",
        "    main()"
      ],
      "metadata": {
        "colab": {
          "base_uri": "https://localhost:8080/"
        },
        "collapsed": true,
        "id": "0OZri1tGOSZX",
        "outputId": "afbbdef3-f270-4c39-8d49-4e03d2e3a63e"
      },
      "execution_count": null,
      "outputs": [
        {
          "output_type": "stream",
          "name": "stdout",
          "text": [
            "Repositories data saved to repositories.csv\n"
          ]
        }
      ]
    },
    {
      "cell_type": "markdown",
      "source": [
        "### To Authenticate the token"
      ],
      "metadata": {
        "id": "yOPMvAm2CpZ-"
      }
    },
    {
      "cell_type": "code",
      "source": [
        "!curl -H \"Authorization: token your_personal_token\" \"https://api.github.com/user\""
      ],
      "metadata": {
        "colab": {
          "base_uri": "https://localhost:8080/"
        },
        "collapsed": true,
        "id": "ZGxiqCk_Hzcv",
        "outputId": "9b8dc54b-c4ae-4841-d8f1-366f3f5a1bcd"
      },
      "execution_count": null,
      "outputs": [
        {
          "output_type": "stream",
          "name": "stdout",
          "text": [
            "{\n",
            "  \"login\": \"itznoor998\",\n",
            "  \"id\": 159861560,\n",
            "  \"node_id\": \"U_kgDOCYdLOA\",\n",
            "  \"avatar_url\": \"https://avatars.githubusercontent.com/u/159861560?v=4\",\n",
            "  \"gravatar_id\": \"\",\n",
            "  \"url\": \"https://api.github.com/users/itznoor998\",\n",
            "  \"html_url\": \"https://github.com/itznoor998\",\n",
            "  \"followers_url\": \"https://api.github.com/users/itznoor998/followers\",\n",
            "  \"following_url\": \"https://api.github.com/users/itznoor998/following{/other_user}\",\n",
            "  \"gists_url\": \"https://api.github.com/users/itznoor998/gists{/gist_id}\",\n",
            "  \"starred_url\": \"https://api.github.com/users/itznoor998/starred{/owner}{/repo}\",\n",
            "  \"subscriptions_url\": \"https://api.github.com/users/itznoor998/subscriptions\",\n",
            "  \"organizations_url\": \"https://api.github.com/users/itznoor998/orgs\",\n",
            "  \"repos_url\": \"https://api.github.com/users/itznoor998/repos\",\n",
            "  \"events_url\": \"https://api.github.com/users/itznoor998/events{/privacy}\",\n",
            "  \"received_events_url\": \"https://api.github.com/users/itznoor998/received_events\",\n",
            "  \"type\": \"User\",\n",
            "  \"user_view_type\": \"public\",\n",
            "  \"site_admin\": false,\n",
            "  \"name\": null,\n",
            "  \"company\": null,\n",
            "  \"blog\": \"\",\n",
            "  \"location\": null,\n",
            "  \"email\": null,\n",
            "  \"hireable\": null,\n",
            "  \"bio\": null,\n",
            "  \"twitter_username\": null,\n",
            "  \"notification_email\": null,\n",
            "  \"public_repos\": 5,\n",
            "  \"public_gists\": 0,\n",
            "  \"followers\": 1,\n",
            "  \"following\": 0,\n",
            "  \"created_at\": \"2024-02-13T02:00:28Z\",\n",
            "  \"updated_at\": \"2024-10-06T16:36:24Z\"\n",
            "}\n"
          ]
        }
      ]
    },
    {
      "cell_type": "code",
      "source": [
        "comment = \"This code is for authenticate the token\"\n",
        "!curl --request GET \\\n",
        "--url \"https://api.github.com/octocat\" \\\n",
        "--header \"Authorization: Bearer your_personal_token\" \\\n",
        "--header \"X-GitHub-Api-Version: 2022-11-28\""
      ],
      "metadata": {
        "colab": {
          "base_uri": "https://localhost:8080/"
        },
        "collapsed": true,
        "id": "r4s-Thmlu4ki",
        "outputId": "9a00f513-6251-4aee-e227-bbe7bab77598"
      },
      "execution_count": null,
      "outputs": [
        {
          "output_type": "stream",
          "name": "stdout",
          "text": [
            "\n",
            "               MMM.           .MMM\n",
            "               MMMMMMMMMMMMMMMMMMM\n",
            "               MMMMMMMMMMMMMMMMMMM      ___________________________________\n",
            "              MMMMMMMMMMMMMMMMMMMMM    |                                   |\n",
            "             MMMMMMMMMMMMMMMMMMMMMMM   | Avoid administrative distraction. |\n",
            "            MMMMMMMMMMMMMMMMMMMMMMMM   |_   _______________________________|\n",
            "            MMMM::- -:::::::- -::MMMM    |/\n",
            "             MM~:~ 00~:::::~ 00~:~MM\n",
            "        .. MMMMM::.00:::+:::.00::MMMMM ..\n",
            "              .MM::::: ._. :::::MM.\n",
            "                 MMMM;:::::;MMMM\n",
            "          -MM        MMMMMMM\n",
            "          ^  M+     MMMMMMMMM\n",
            "              MMMMMMM MM MM MM\n",
            "                   MM MM MM MM\n",
            "                   MM MM MM MM\n",
            "                .~~MM~MM~MM~MM~~.\n",
            "             ~~~~MM:~MM~~~MM~:MM~~~~\n",
            "            ~~~~~~==~==~~~==~==~~~~~~\n",
            "             ~~~~~~==~==~==~==~~~~~~\n",
            "                 :~==~==~==~==~~\n"
          ]
        }
      ]
    },
    {
      "cell_type": "code",
      "source": [
        "!curl -H \"Authorization: token your_personal_token\" -i \"https://api.github.com/rate_limit\""
      ],
      "metadata": {
        "colab": {
          "base_uri": "https://localhost:8080/"
        },
        "collapsed": true,
        "id": "wzOazf-7KBpe",
        "outputId": "cc83209c-f114-49d5-a182-106f67a3fda7"
      },
      "execution_count": null,
      "outputs": [
        {
          "output_type": "stream",
          "name": "stdout",
          "text": [
            "{\n",
            "  \"resources\": {\n",
            "    \"core\": {\n",
            "      \"limit\": 5000,\n",
            "      \"used\": 16,\n",
            "      \"remaining\": 4984,\n",
            "      \"reset\": 1730256311\n",
            "    },\n",
            "    \"search\": {\n",
            "      \"limit\": 30,\n",
            "      \"used\": 0,\n",
            "      \"remaining\": 30,\n",
            "      \"reset\": 1730254722\n",
            "    },\n",
            "    \"graphql\": {\n",
            "      \"limit\": 5000,\n",
            "      \"used\": 0,\n",
            "      \"remaining\": 5000,\n",
            "      \"reset\": 1730258262\n",
            "    },\n",
            "    \"integration_manifest\": {\n",
            "      \"limit\": 5000,\n",
            "      \"used\": 0,\n",
            "      \"remaining\": 5000,\n",
            "      \"reset\": 1730258262\n",
            "    },\n",
            "    \"source_import\": {\n",
            "      \"limit\": 100,\n",
            "      \"used\": 0,\n",
            "      \"remaining\": 100,\n",
            "      \"reset\": 1730254722\n",
            "    },\n",
            "    \"code_scanning_upload\": {\n",
            "      \"limit\": 1000,\n",
            "      \"used\": 0,\n",
            "      \"remaining\": 1000,\n",
            "      \"reset\": 1730258262\n",
            "    },\n",
            "    \"actions_runner_registration\": {\n",
            "      \"limit\": 10000,\n",
            "      \"used\": 0,\n",
            "      \"remaining\": 10000,\n",
            "      \"reset\": 1730258262\n",
            "    },\n",
            "    \"scim\": {\n",
            "      \"limit\": 15000,\n",
            "      \"used\": 0,\n",
            "      \"remaining\": 15000,\n",
            "      \"reset\": 1730258262\n",
            "    },\n",
            "    \"dependency_snapshots\": {\n",
            "      \"limit\": 100,\n",
            "      \"used\": 0,\n",
            "      \"remaining\": 100,\n",
            "      \"reset\": 1730254722\n",
            "    },\n",
            "    \"audit_log\": {\n",
            "      \"limit\": 1750,\n",
            "      \"used\": 0,\n",
            "      \"remaining\": 1750,\n",
            "      \"reset\": 1730258262\n",
            "    },\n",
            "    \"audit_log_streaming\": {\n",
            "      \"limit\": 15,\n",
            "      \"used\": 0,\n",
            "      \"remaining\": 15,\n",
            "      \"reset\": 1730258262\n",
            "    },\n",
            "    \"code_search\": {\n",
            "      \"limit\": 10,\n",
            "      \"used\": 0,\n",
            "      \"remaining\": 10,\n",
            "      \"reset\": 1730254722\n",
            "    }\n",
            "  },\n",
            "  \"rate\": {\n",
            "    \"limit\": 5000,\n",
            "    \"used\": 16,\n",
            "    \"remaining\": 4984,\n",
            "    \"reset\": 1730256311\n",
            "  }\n",
            "}\n"
          ]
        }
      ]
    },
    {
      "cell_type": "markdown",
      "source": [
        "### Projects Questions' answers"
      ],
      "metadata": {
        "id": "Mx2WrOuraJWH"
      }
    },
    {
      "cell_type": "markdown",
      "source": [
        "#### Initialization"
      ],
      "metadata": {
        "id": "qw6KaGe9ac0B"
      }
    },
    {
      "cell_type": "code",
      "source": [
        "import numpy as np, pandas as pd"
      ],
      "metadata": {
        "id": "izsxacsQxerw"
      },
      "execution_count": null,
      "outputs": []
    },
    {
      "cell_type": "code",
      "source": [
        "users_df = pd.read_csv('users.csv')"
      ],
      "metadata": {
        "id": "zjgMx-gABjxW"
      },
      "execution_count": null,
      "outputs": []
    },
    {
      "cell_type": "code",
      "source": [
        "users_df['login'][:5]"
      ],
      "metadata": {
        "colab": {
          "base_uri": "https://localhost:8080/",
          "height": 240
        },
        "collapsed": true,
        "id": "7sS4YzFfBovs",
        "outputId": "61ea0be0-51b8-4013-8c7f-76d072e6262c"
      },
      "execution_count": null,
      "outputs": [
        {
          "output_type": "execute_result",
          "data": {
            "text/plain": [
              "0            IDouble\n",
              "1    TheOfficialFloW\n",
              "2            Seldaek\n",
              "3              riscv\n",
              "4        JonnyBurger\n",
              "Name: login, dtype: object"
            ],
            "text/html": [
              "<div>\n",
              "<style scoped>\n",
              "    .dataframe tbody tr th:only-of-type {\n",
              "        vertical-align: middle;\n",
              "    }\n",
              "\n",
              "    .dataframe tbody tr th {\n",
              "        vertical-align: top;\n",
              "    }\n",
              "\n",
              "    .dataframe thead th {\n",
              "        text-align: right;\n",
              "    }\n",
              "</style>\n",
              "<table border=\"1\" class=\"dataframe\">\n",
              "  <thead>\n",
              "    <tr style=\"text-align: right;\">\n",
              "      <th></th>\n",
              "      <th>login</th>\n",
              "    </tr>\n",
              "  </thead>\n",
              "  <tbody>\n",
              "    <tr>\n",
              "      <th>0</th>\n",
              "      <td>IDouble</td>\n",
              "    </tr>\n",
              "    <tr>\n",
              "      <th>1</th>\n",
              "      <td>TheOfficialFloW</td>\n",
              "    </tr>\n",
              "    <tr>\n",
              "      <th>2</th>\n",
              "      <td>Seldaek</td>\n",
              "    </tr>\n",
              "    <tr>\n",
              "      <th>3</th>\n",
              "      <td>riscv</td>\n",
              "    </tr>\n",
              "    <tr>\n",
              "      <th>4</th>\n",
              "      <td>JonnyBurger</td>\n",
              "    </tr>\n",
              "  </tbody>\n",
              "</table>\n",
              "</div><br><label><b>dtype:</b> object</label>"
            ]
          },
          "metadata": {},
          "execution_count": 4
        }
      ]
    },
    {
      "cell_type": "code",
      "source": [
        "users_df.columns"
      ],
      "metadata": {
        "colab": {
          "base_uri": "https://localhost:8080/"
        },
        "id": "rCn5TeoIJ4TB",
        "outputId": "ca3b7c12-6c4d-4621-8320-b43405adabe0"
      },
      "execution_count": null,
      "outputs": [
        {
          "output_type": "execute_result",
          "data": {
            "text/plain": [
              "Index(['login', 'name', 'company', 'location', 'email', 'hireable', 'bio',\n",
              "       'public_repos', 'followers', 'following', 'created_at', 'Unnamed: 11',\n",
              "       'Unnamed: 12', 'raw_data_of_company_name'],\n",
              "      dtype='object')"
            ]
          },
          "metadata": {},
          "execution_count": 5
        }
      ]
    },
    {
      "cell_type": "code",
      "source": [
        "users_df.shape"
      ],
      "metadata": {
        "colab": {
          "base_uri": "https://localhost:8080/"
        },
        "id": "kvMmytnG3r1M",
        "outputId": "e361270d-5625-45da-e5ee-a42d00303d72"
      },
      "execution_count": null,
      "outputs": [
        {
          "output_type": "execute_result",
          "data": {
            "text/plain": [
              "(475, 11)"
            ]
          },
          "metadata": {},
          "execution_count": 18
        }
      ]
    },
    {
      "cell_type": "code",
      "source": [
        "repo_df = pd.read_csv('repositories.csv')\n",
        "repo_df.shape"
      ],
      "metadata": {
        "colab": {
          "base_uri": "https://localhost:8080/"
        },
        "collapsed": true,
        "id": "uBtvy0tpGrI6",
        "outputId": "ca18106e-9097-4a02-fc9e-0033fccc86c0"
      },
      "execution_count": null,
      "outputs": [
        {
          "output_type": "execute_result",
          "data": {
            "text/plain": [
              "(22696, 9)"
            ]
          },
          "metadata": {},
          "execution_count": 3
        }
      ]
    },
    {
      "cell_type": "code",
      "source": [
        "user = repo_df.login[len(repo_df)-1]\n",
        "for i in range(users_df.shape[0]):\n",
        "  if user==users_df.login[i]:\n",
        "    print(i)\n",
        "    break"
      ],
      "metadata": {
        "colab": {
          "base_uri": "https://localhost:8080/"
        },
        "id": "EoWFrc2yHVYD",
        "outputId": "11e60a9d-ebd3-4bb2-bf97-c286859f16e1"
      },
      "execution_count": null,
      "outputs": [
        {
          "output_type": "stream",
          "name": "stdout",
          "text": [
            "474\n"
          ]
        }
      ]
    },
    {
      "cell_type": "markdown",
      "source": [
        "#### Answers"
      ],
      "metadata": {
        "id": "I8mkvIdhaiFc"
      }
    },
    {
      "cell_type": "markdown",
      "source": [
        "##### OneShot ansers"
      ],
      "metadata": {
        "id": "bdNKT3ls_u3N"
      }
    },
    {
      "cell_type": "code",
      "source": [
        "new_df = users_df.sort_values(by='followers',ascending=False)\n",
        "result = list(new_df.login[:5])\n",
        "for login in result:\n",
        "  print(login,end=',') #answer1"
      ],
      "metadata": {
        "colab": {
          "base_uri": "https://localhost:8080/"
        },
        "id": "0jTwfpD5JXh_",
        "outputId": "777f6fb7-0d52-4ca1-b025-e0236d18e121"
      },
      "execution_count": null,
      "outputs": [
        {
          "output_type": "stream",
          "name": "stdout",
          "text": [
            "IDouble,TheOfficialFloW,Seldaek,riscv,JonnyBurger,"
          ]
        }
      ]
    },
    {
      "cell_type": "code",
      "source": [
        "new_df = users_df.sort_values(by='created_at',ascending=True)\n",
        "result = list(new_df.login[:5])\n",
        "for login in result:\n",
        "  print(login,end=',')#answer2"
      ],
      "metadata": {
        "colab": {
          "base_uri": "https://localhost:8080/"
        },
        "id": "PricNuaMKJsH",
        "outputId": "7f67fe03-bacc-499a-a46d-b8cea9d4c0ae"
      },
      "execution_count": null,
      "outputs": [
        {
          "output_type": "stream",
          "name": "stdout",
          "text": [
            "lejoe,uwolfer,matthiask,oscardelben,panterch,"
          ]
        }
      ]
    },
    {
      "cell_type": "code",
      "source": [
        "filtered_df = repo_df[repo_df['license_name'].notna()]\n",
        "final = filtered_df.license_name.value_counts()[:6]\n",
        "final.index[:3] #answer3"
      ],
      "metadata": {
        "id": "0nOTxG1lLVo3",
        "colab": {
          "base_uri": "https://localhost:8080/"
        },
        "outputId": "c1d488a3-dbde-4c1e-ffd8-69fdb86b64fe"
      },
      "execution_count": null,
      "outputs": [
        {
          "output_type": "execute_result",
          "data": {
            "text/plain": [
              "Index(['No License', 'MIT License', 'Apache License 2.0'], dtype='object', name='license_name')"
            ]
          },
          "metadata": {},
          "execution_count": 46
        }
      ]
    },
    {
      "cell_type": "code",
      "source": [
        "repo_df.license_name.unique()[:8]"
      ],
      "metadata": {
        "colab": {
          "base_uri": "https://localhost:8080/"
        },
        "collapsed": true,
        "id": "_6ESdFjtSoO6",
        "outputId": "4d20d3cb-44a4-40b7-eea2-12e107eb9fab"
      },
      "execution_count": null,
      "outputs": [
        {
          "output_type": "execute_result",
          "data": {
            "text/plain": [
              "array(['MIT License', 'No License', 'Apache License 2.0',\n",
              "       'GNU Lesser General Public License v3.0', 'Other',\n",
              "       'GNU General Public License v3.0', 'Open Software License 3.0',\n",
              "       'BSD 3-Clause \"New\" or \"Revised\" License'], dtype=object)"
            ]
          },
          "metadata": {},
          "execution_count": 32
        }
      ]
    },
    {
      "cell_type": "code",
      "source": [
        "final = users_df.company.value_counts()\n",
        "final.index[0]#answer4"
      ],
      "metadata": {
        "colab": {
          "base_uri": "https://localhost:8080/",
          "height": 36
        },
        "id": "dijWeL8KW8be",
        "outputId": "b5c82391-88e5-43a4-df05-6cb1cfa5b3c5"
      },
      "execution_count": null,
      "outputs": [
        {
          "output_type": "execute_result",
          "data": {
            "text/plain": [
              "'GOOGLE'"
            ],
            "application/vnd.google.colaboratory.intrinsic+json": {
              "type": "string"
            }
          },
          "metadata": {},
          "execution_count": 45
        }
      ]
    },
    {
      "cell_type": "code",
      "source": [
        "filtered_df = repo_df[repo_df['language'].notna()]\n",
        "final = filtered_df.language.value_counts()\n",
        "final.index[0]#answer5"
      ],
      "metadata": {
        "colab": {
          "base_uri": "https://localhost:8080/",
          "height": 36
        },
        "id": "Ac_Qm9N5YXLx",
        "outputId": "74eeec8f-8523-4d66-abb6-0aff9c732bf8"
      },
      "execution_count": null,
      "outputs": [
        {
          "output_type": "execute_result",
          "data": {
            "text/plain": [
              "'Python'"
            ],
            "application/vnd.google.colaboratory.intrinsic+json": {
              "type": "string"
            }
          },
          "metadata": {},
          "execution_count": 38
        }
      ]
    },
    {
      "cell_type": "code",
      "source": [
        "repo_df['created_at'] = pd.to_datetime(repo_df.created_at)"
      ],
      "metadata": {
        "id": "GqkKSobmZJVI"
      },
      "execution_count": null,
      "outputs": []
    },
    {
      "cell_type": "code",
      "source": [
        "repo_df.created_at[:1].dtype"
      ],
      "metadata": {
        "colab": {
          "base_uri": "https://localhost:8080/"
        },
        "id": "iZk2-n0RahCl",
        "outputId": "d8183632-7717-4858-a86f-33d21964dc24"
      },
      "execution_count": null,
      "outputs": [
        {
          "output_type": "execute_result",
          "data": {
            "text/plain": [
              "datetime64[ns, UTC]"
            ]
          },
          "metadata": {},
          "execution_count": 24
        }
      ]
    },
    {
      "cell_type": "code",
      "source": [
        "filtered_df = repo_df[repo_df['language'].notna()]\n",
        "date_str = '2020/12/31'\n",
        "min_date = pd.to_datetime(date_str).tz_localize('UTC')\n",
        "condition = filtered_df.created_at >= min_date\n",
        "ans = filtered_df.loc[condition].language.value_counts()\n",
        "ans.index[2] # answer6"
      ],
      "metadata": {
        "colab": {
          "base_uri": "https://localhost:8080/",
          "height": 36
        },
        "id": "4nqFQtprYohu",
        "outputId": "d549a7ef-443c-4fdf-d23a-9d3addf0368b"
      },
      "execution_count": null,
      "outputs": [
        {
          "output_type": "execute_result",
          "data": {
            "text/plain": [
              "'JavaScript'"
            ],
            "application/vnd.google.colaboratory.intrinsic+json": {
              "type": "string"
            }
          },
          "metadata": {},
          "execution_count": 245
        }
      ]
    },
    {
      "cell_type": "code",
      "source": [
        "ans[:4]"
      ],
      "metadata": {
        "colab": {
          "base_uri": "https://localhost:8080/",
          "height": 240
        },
        "id": "7NkXFq76e1ky",
        "outputId": "d94ec29c-b463-49d8-c256-4951b006f7b1"
      },
      "execution_count": null,
      "outputs": [
        {
          "output_type": "execute_result",
          "data": {
            "text/plain": [
              "language\n",
              "Python        1011\n",
              "TypeScript     438\n",
              "JavaScript     429\n",
              "C++            259\n",
              "Name: count, dtype: int64"
            ],
            "text/html": [
              "<div>\n",
              "<style scoped>\n",
              "    .dataframe tbody tr th:only-of-type {\n",
              "        vertical-align: middle;\n",
              "    }\n",
              "\n",
              "    .dataframe tbody tr th {\n",
              "        vertical-align: top;\n",
              "    }\n",
              "\n",
              "    .dataframe thead th {\n",
              "        text-align: right;\n",
              "    }\n",
              "</style>\n",
              "<table border=\"1\" class=\"dataframe\">\n",
              "  <thead>\n",
              "    <tr style=\"text-align: right;\">\n",
              "      <th></th>\n",
              "      <th>count</th>\n",
              "    </tr>\n",
              "    <tr>\n",
              "      <th>language</th>\n",
              "      <th></th>\n",
              "    </tr>\n",
              "  </thead>\n",
              "  <tbody>\n",
              "    <tr>\n",
              "      <th>Python</th>\n",
              "      <td>1011</td>\n",
              "    </tr>\n",
              "    <tr>\n",
              "      <th>TypeScript</th>\n",
              "      <td>438</td>\n",
              "    </tr>\n",
              "    <tr>\n",
              "      <th>JavaScript</th>\n",
              "      <td>429</td>\n",
              "    </tr>\n",
              "    <tr>\n",
              "      <th>C++</th>\n",
              "      <td>259</td>\n",
              "    </tr>\n",
              "  </tbody>\n",
              "</table>\n",
              "</div><br><label><b>dtype:</b> int64</label>"
            ]
          },
          "metadata": {},
          "execution_count": 246
        }
      ]
    },
    {
      "cell_type": "code",
      "source": [
        "import pandas as pd\n",
        "\n",
        "# Original date string\n",
        "date_str = '2020/12/31'\n",
        "\n",
        "# Convert to datetime64 in UTC\n",
        "date_time = pd.to_datetime(date_str).tz_localize('UTC')\n",
        "\n",
        "print(date_time)\n"
      ],
      "metadata": {
        "colab": {
          "base_uri": "https://localhost:8080/"
        },
        "id": "EXitEM0_bgEu",
        "outputId": "ca30c44b-f787-471e-dad0-6ee5354fd59c"
      },
      "execution_count": null,
      "outputs": [
        {
          "output_type": "stream",
          "name": "stdout",
          "text": [
            "2020-12-31 00:00:00+00:00\n"
          ]
        }
      ]
    },
    {
      "cell_type": "code",
      "source": [
        "average_stars = repo_df.groupby('language').stargazers_count.mean()\n",
        "ans = average_stars.sort_values(ascending=False)\n",
        "ans.index[0]#answer7"
      ],
      "metadata": {
        "colab": {
          "base_uri": "https://localhost:8080/",
          "height": 36
        },
        "id": "Pha2ky5pHZ2N",
        "outputId": "66477e21-8ddc-47f8-882d-e76f192f2c36"
      },
      "execution_count": null,
      "outputs": [
        {
          "output_type": "execute_result",
          "data": {
            "text/plain": [
              "'BitBake'"
            ],
            "application/vnd.google.colaboratory.intrinsic+json": {
              "type": "string"
            }
          },
          "metadata": {},
          "execution_count": 34
        }
      ]
    },
    {
      "cell_type": "code",
      "source": [
        "copy_df = users_df\n",
        "copy_df['leaders_strenth'] = copy_df.followers/(copy_df.following+1)\n",
        "new_df = copy_df.sort_values(by='leaders_strenth',ascending=False)\n",
        "result = new_df.login[:5]\n",
        "for login in result:\n",
        "  print(login,end=',') #answer8"
      ],
      "metadata": {
        "colab": {
          "base_uri": "https://localhost:8080/"
        },
        "id": "DSyJKSB2JVdH",
        "outputId": "840b8215-0459-4556-cc70-83b62e144761"
      },
      "execution_count": null,
      "outputs": [
        {
          "output_type": "stream",
          "name": "stdout",
          "text": [
            "riscv,bpasero,Seldaek,egamma,ethz-asl,"
          ]
        }
      ]
    },
    {
      "cell_type": "code",
      "source": [
        "ans = users_df.public_repos.corr(users_df.followers)\n",
        "round(ans,3) #answer9"
      ],
      "metadata": {
        "colab": {
          "base_uri": "https://localhost:8080/"
        },
        "id": "_aZQ6PUXpEu7",
        "outputId": "c13acce0-c455-4308-fac6-b2b2647f6662"
      },
      "execution_count": null,
      "outputs": [
        {
          "output_type": "execute_result",
          "data": {
            "text/plain": [
              "0.068"
            ]
          },
          "metadata": {},
          "execution_count": 10
        }
      ]
    },
    {
      "cell_type": "code",
      "source": [
        "X = users_df.public_repos.values\n",
        "X = X.reshape(len(X),1)\n",
        "y = users_df.followers.values\n",
        "y = y.reshape(len(y),1)\n",
        "from sklearn.linear_model import LinearRegression\n",
        "lr = LinearRegression()\n",
        "lr.fit(X,y)\n",
        "slope = lr.coef_[0][0]\n",
        "round(slope,3) #answer10"
      ],
      "metadata": {
        "colab": {
          "base_uri": "https://localhost:8080/"
        },
        "id": "uC0kmXaPsZRv",
        "outputId": "df0f8a33-c4b4-4399-ceb0-82ffd424baa0"
      },
      "execution_count": null,
      "outputs": [
        {
          "output_type": "execute_result",
          "data": {
            "text/plain": [
              "12.897"
            ]
          },
          "metadata": {},
          "execution_count": 12
        }
      ]
    },
    {
      "cell_type": "code",
      "source": [
        "ans = repo_df.has_wiki.corr(repo_df.has_projects)\n",
        "round(ans,3) #answer11"
      ],
      "metadata": {
        "colab": {
          "base_uri": "https://localhost:8080/"
        },
        "id": "PymXFEBN0VjO",
        "outputId": "13120604-f53b-4f4e-b0bb-e12a606e6efd"
      },
      "execution_count": null,
      "outputs": [
        {
          "output_type": "execute_result",
          "data": {
            "text/plain": [
              "0.336"
            ]
          },
          "metadata": {},
          "execution_count": 4
        }
      ]
    },
    {
      "cell_type": "code",
      "source": [
        "hireable = users_df.loc[users_df.hireable==True]\n",
        "rest_hireable = users_df.loc[users_df.hireable !=True]\n",
        "hire_yes = hireable.following.mean()\n",
        "hire_rest = rest_hireable.following.mean()\n",
        "result = hire_yes - hire_rest\n",
        "round(result,3) #answer12"
      ],
      "metadata": {
        "colab": {
          "base_uri": "https://localhost:8080/"
        },
        "id": "BXp2cR7j7z8d",
        "outputId": "2900b989-f0b1-47c1-da4f-69a8d19e8c8c"
      },
      "execution_count": null,
      "outputs": [
        {
          "output_type": "execute_result",
          "data": {
            "text/plain": [
              "-834.073"
            ]
          },
          "metadata": {},
          "execution_count": 11
        }
      ]
    },
    {
      "cell_type": "code",
      "source": [
        "bios = [ ]\n",
        "new_df = users_df.dropna(subset='bio')\n",
        "for bio in list(new_df['bio']):\n",
        "  length = len(str(bio).split())\n",
        "  bios.append(length)\n",
        "bios = np.array(bios).reshape(len(bios),1)"
      ],
      "metadata": {
        "id": "sIfth-SvKod_"
      },
      "execution_count": null,
      "outputs": []
    },
    {
      "cell_type": "code",
      "source": [
        "followers = new_df.followers.values\n",
        "followers = followers.reshape(len(followers),1)\n",
        "from sklearn.linear_model import LinearRegression\n",
        "lg = LinearRegression()\n",
        "lg.fit(bios,followers)\n",
        "ans = lg.coef_[0][0]\n",
        "round(ans,3) #answer13"
      ],
      "metadata": {
        "colab": {
          "base_uri": "https://localhost:8080/"
        },
        "id": "IhSC0U9aOWRB",
        "outputId": "cd30ad89-8a88-4aba-a641-5d9bbc02923d"
      },
      "execution_count": null,
      "outputs": [
        {
          "output_type": "execute_result",
          "data": {
            "text/plain": [
              "40.527"
            ]
          },
          "metadata": {},
          "execution_count": 13
        }
      ]
    },
    {
      "cell_type": "markdown",
      "source": [
        "##### 14. Who created the most repositories on weekends (UTC)? List the top 5 users' login in order, comma-separated\n",
        " * Users login"
      ],
      "metadata": {
        "id": "hsbfZmEn653x"
      }
    },
    {
      "cell_type": "code",
      "source": [
        "from datetime import datetime\n",
        "dates = repo_df.created_at.values\n",
        "weekend = [ ]\n",
        "for date in dates:\n",
        "  dt = datetime.strptime(date,'%Y-%m-%dT%H:%M:%SZ')\n",
        "  if dt.weekday() >= 5:\n",
        "    weekend.append(True)\n",
        "  else:\n",
        "    weekend.append(False)\n",
        "weekend = np.array(weekend)"
      ],
      "metadata": {
        "id": "AfmNz3hA15p4"
      },
      "execution_count": null,
      "outputs": []
    },
    {
      "cell_type": "code",
      "source": [
        "repo_df['weekend'] = weekend;"
      ],
      "metadata": {
        "id": "by5kJT8S4G6w"
      },
      "execution_count": null,
      "outputs": []
    },
    {
      "cell_type": "code",
      "source": [
        "condition14 = repo_df.weekend==True\n",
        "new_df = repo_df.loc[condition14]\n",
        "data = new_df.groupby('login').count().sort_values(by='created_at',ascending=False)[:5]\n",
        "result = list(data.index)\n",
        "for login in result:\n",
        "  print(login,end=',') #answer14"
      ],
      "metadata": {
        "colab": {
          "base_uri": "https://localhost:8080/"
        },
        "id": "QkrneFlm4srz",
        "outputId": "1211f458-e35a-4887-8d90-ac02fa6b6345"
      },
      "execution_count": null,
      "outputs": [
        {
          "output_type": "stream",
          "name": "stdout",
          "text": [
            "kynan,lris,yati-sagade,Sadullah-TANRIKULU,shuhei,"
          ]
        }
      ]
    },
    {
      "cell_type": "markdown",
      "source": [
        "##### 15. Do people who are hireable share their email addresses more often?\n",
        "* [fraction of users with email when hireable=true] minus [fraction of users with email for the rest] (to 3 decimal places, e.g. 0.123 or -0.123)"
      ],
      "metadata": {
        "id": "upPjnB677Mq5"
      }
    },
    {
      "cell_type": "code",
      "source": [
        "new_df1 = users_df.loc[(users_df['email'].isna()==False) & (users_df.hireable==True)]\n",
        "hireable_email = new_df1.shape[0]\n",
        "\n",
        "new_df2 = users_df.loc[(users_df['email'].isna()==False) & (users_df.hireable!=True)]\n",
        "rest_email = new_df2.shape[0]\n",
        "\n",
        "size1 = users_df.loc[(users_df.hireable==True)].shape[0]\n",
        "size2 = users_df.loc[(users_df.hireable!=True)].shape[0]"
      ],
      "metadata": {
        "id": "hRHRdsL_7c21"
      },
      "execution_count": null,
      "outputs": []
    },
    {
      "cell_type": "code",
      "source": [
        "frac1 = hireable_email/size1\n",
        "frac2 = rest_email/size2\n",
        "round(frac1-frac2,3)"
      ],
      "metadata": {
        "colab": {
          "base_uri": "https://localhost:8080/"
        },
        "id": "rJs0dvJnO66v",
        "outputId": "0da4e841-a01c-4a36-fa01-cd3362d4b40c"
      },
      "execution_count": null,
      "outputs": [
        {
          "output_type": "execute_result",
          "data": {
            "text/plain": [
              "0.066"
            ]
          },
          "metadata": {},
          "execution_count": 101
        }
      ]
    },
    {
      "cell_type": "markdown",
      "source": [
        "##### 16. Let's assume that the last word in a user's name is their surname (ignore missing names, trim and split by whitespace.) What's the most common surname? (If there's a tie, list them all, comma-separated, alphabetically)\n",
        "* Most common surname(s)"
      ],
      "metadata": {
        "id": "lMUn8FbOJ8o1"
      }
    },
    {
      "cell_type": "code",
      "source": [
        "new_df = users_df.dropna(subset='name')\n",
        "surnames = [ ]\n",
        "for name in list(new_df.name.values):\n",
        "  out = name.split(' ')\n",
        "  surnames.append(out[-1])\n",
        "surnames = np.array(surnames)\n",
        "new_df['surname'] = surnames;"
      ],
      "metadata": {
        "colab": {
          "base_uri": "https://localhost:8080/"
        },
        "collapsed": true,
        "id": "LKcIAotkKCC9",
        "outputId": "847441e2-de97-4e9d-cb50-956c507fd6f6"
      },
      "execution_count": null,
      "outputs": [
        {
          "output_type": "stream",
          "name": "stderr",
          "text": [
            "<ipython-input-84-13c4a56cbbc8>:7: SettingWithCopyWarning: \n",
            "A value is trying to be set on a copy of a slice from a DataFrame.\n",
            "Try using .loc[row_indexer,col_indexer] = value instead\n",
            "\n",
            "See the caveats in the documentation: https://pandas.pydata.org/pandas-docs/stable/user_guide/indexing.html#returning-a-view-versus-a-copy\n",
            "  new_df['surname'] = surnames;\n"
          ]
        }
      ]
    },
    {
      "cell_type": "code",
      "source": [
        "result = new_df.groupby('surname').count().sort_values(by='login',ascending=False)\n",
        "result[:5]"
      ],
      "metadata": {
        "colab": {
          "base_uri": "https://localhost:8080/",
          "height": 274
        },
        "id": "MxIyd9kMMUsW",
        "outputId": "d5d46330-7f2d-46a6-80bb-ce0b412a905e"
      },
      "execution_count": null,
      "outputs": [
        {
          "output_type": "execute_result",
          "data": {
            "text/plain": [
              "         login  name  company  location  email  hireable  bio  public_repos  \\\n",
              "surname                                                                       \n",
              "Wang         4     4        3         4      2         1    3             4   \n",
              "Li           4     4        2         4      3         0    4             4   \n",
              "Lab          3     3        0         3      0         0    1             3   \n",
              "Group        2     2        0         2      0         0    1             2   \n",
              "Smith        2     2        1         2      2         0    0             2   \n",
              "\n",
              "         followers  following  created_at  Unnamed: 11  Unnamed: 12  \\\n",
              "surname                                                               \n",
              "Wang             4          4           4            0            0   \n",
              "Li               4          4           4            0            0   \n",
              "Lab              3          3           3            0            0   \n",
              "Group            2          2           2            0            0   \n",
              "Smith            2          2           2            0            0   \n",
              "\n",
              "         raw_data_of_company_name  \n",
              "surname                            \n",
              "Wang                            3  \n",
              "Li                              2  \n",
              "Lab                             0  \n",
              "Group                           0  \n",
              "Smith                           1  "
            ],
            "text/html": [
              "\n",
              "  <div id=\"df-ad82b38a-df56-4969-a267-9d80869ea2b6\" class=\"colab-df-container\">\n",
              "    <div>\n",
              "<style scoped>\n",
              "    .dataframe tbody tr th:only-of-type {\n",
              "        vertical-align: middle;\n",
              "    }\n",
              "\n",
              "    .dataframe tbody tr th {\n",
              "        vertical-align: top;\n",
              "    }\n",
              "\n",
              "    .dataframe thead th {\n",
              "        text-align: right;\n",
              "    }\n",
              "</style>\n",
              "<table border=\"1\" class=\"dataframe\">\n",
              "  <thead>\n",
              "    <tr style=\"text-align: right;\">\n",
              "      <th></th>\n",
              "      <th>login</th>\n",
              "      <th>name</th>\n",
              "      <th>company</th>\n",
              "      <th>location</th>\n",
              "      <th>email</th>\n",
              "      <th>hireable</th>\n",
              "      <th>bio</th>\n",
              "      <th>public_repos</th>\n",
              "      <th>followers</th>\n",
              "      <th>following</th>\n",
              "      <th>created_at</th>\n",
              "      <th>Unnamed: 11</th>\n",
              "      <th>Unnamed: 12</th>\n",
              "      <th>raw_data_of_company_name</th>\n",
              "    </tr>\n",
              "    <tr>\n",
              "      <th>surname</th>\n",
              "      <th></th>\n",
              "      <th></th>\n",
              "      <th></th>\n",
              "      <th></th>\n",
              "      <th></th>\n",
              "      <th></th>\n",
              "      <th></th>\n",
              "      <th></th>\n",
              "      <th></th>\n",
              "      <th></th>\n",
              "      <th></th>\n",
              "      <th></th>\n",
              "      <th></th>\n",
              "      <th></th>\n",
              "    </tr>\n",
              "  </thead>\n",
              "  <tbody>\n",
              "    <tr>\n",
              "      <th>Wang</th>\n",
              "      <td>4</td>\n",
              "      <td>4</td>\n",
              "      <td>3</td>\n",
              "      <td>4</td>\n",
              "      <td>2</td>\n",
              "      <td>1</td>\n",
              "      <td>3</td>\n",
              "      <td>4</td>\n",
              "      <td>4</td>\n",
              "      <td>4</td>\n",
              "      <td>4</td>\n",
              "      <td>0</td>\n",
              "      <td>0</td>\n",
              "      <td>3</td>\n",
              "    </tr>\n",
              "    <tr>\n",
              "      <th>Li</th>\n",
              "      <td>4</td>\n",
              "      <td>4</td>\n",
              "      <td>2</td>\n",
              "      <td>4</td>\n",
              "      <td>3</td>\n",
              "      <td>0</td>\n",
              "      <td>4</td>\n",
              "      <td>4</td>\n",
              "      <td>4</td>\n",
              "      <td>4</td>\n",
              "      <td>4</td>\n",
              "      <td>0</td>\n",
              "      <td>0</td>\n",
              "      <td>2</td>\n",
              "    </tr>\n",
              "    <tr>\n",
              "      <th>Lab</th>\n",
              "      <td>3</td>\n",
              "      <td>3</td>\n",
              "      <td>0</td>\n",
              "      <td>3</td>\n",
              "      <td>0</td>\n",
              "      <td>0</td>\n",
              "      <td>1</td>\n",
              "      <td>3</td>\n",
              "      <td>3</td>\n",
              "      <td>3</td>\n",
              "      <td>3</td>\n",
              "      <td>0</td>\n",
              "      <td>0</td>\n",
              "      <td>0</td>\n",
              "    </tr>\n",
              "    <tr>\n",
              "      <th>Group</th>\n",
              "      <td>2</td>\n",
              "      <td>2</td>\n",
              "      <td>0</td>\n",
              "      <td>2</td>\n",
              "      <td>0</td>\n",
              "      <td>0</td>\n",
              "      <td>1</td>\n",
              "      <td>2</td>\n",
              "      <td>2</td>\n",
              "      <td>2</td>\n",
              "      <td>2</td>\n",
              "      <td>0</td>\n",
              "      <td>0</td>\n",
              "      <td>0</td>\n",
              "    </tr>\n",
              "    <tr>\n",
              "      <th>Smith</th>\n",
              "      <td>2</td>\n",
              "      <td>2</td>\n",
              "      <td>1</td>\n",
              "      <td>2</td>\n",
              "      <td>2</td>\n",
              "      <td>0</td>\n",
              "      <td>0</td>\n",
              "      <td>2</td>\n",
              "      <td>2</td>\n",
              "      <td>2</td>\n",
              "      <td>2</td>\n",
              "      <td>0</td>\n",
              "      <td>0</td>\n",
              "      <td>1</td>\n",
              "    </tr>\n",
              "  </tbody>\n",
              "</table>\n",
              "</div>\n",
              "    <div class=\"colab-df-buttons\">\n",
              "\n",
              "  <div class=\"colab-df-container\">\n",
              "    <button class=\"colab-df-convert\" onclick=\"convertToInteractive('df-ad82b38a-df56-4969-a267-9d80869ea2b6')\"\n",
              "            title=\"Convert this dataframe to an interactive table.\"\n",
              "            style=\"display:none;\">\n",
              "\n",
              "  <svg xmlns=\"http://www.w3.org/2000/svg\" height=\"24px\" viewBox=\"0 -960 960 960\">\n",
              "    <path d=\"M120-120v-720h720v720H120Zm60-500h600v-160H180v160Zm220 220h160v-160H400v160Zm0 220h160v-160H400v160ZM180-400h160v-160H180v160Zm440 0h160v-160H620v160ZM180-180h160v-160H180v160Zm440 0h160v-160H620v160Z\"/>\n",
              "  </svg>\n",
              "    </button>\n",
              "\n",
              "  <style>\n",
              "    .colab-df-container {\n",
              "      display:flex;\n",
              "      gap: 12px;\n",
              "    }\n",
              "\n",
              "    .colab-df-convert {\n",
              "      background-color: #E8F0FE;\n",
              "      border: none;\n",
              "      border-radius: 50%;\n",
              "      cursor: pointer;\n",
              "      display: none;\n",
              "      fill: #1967D2;\n",
              "      height: 32px;\n",
              "      padding: 0 0 0 0;\n",
              "      width: 32px;\n",
              "    }\n",
              "\n",
              "    .colab-df-convert:hover {\n",
              "      background-color: #E2EBFA;\n",
              "      box-shadow: 0px 1px 2px rgba(60, 64, 67, 0.3), 0px 1px 3px 1px rgba(60, 64, 67, 0.15);\n",
              "      fill: #174EA6;\n",
              "    }\n",
              "\n",
              "    .colab-df-buttons div {\n",
              "      margin-bottom: 4px;\n",
              "    }\n",
              "\n",
              "    [theme=dark] .colab-df-convert {\n",
              "      background-color: #3B4455;\n",
              "      fill: #D2E3FC;\n",
              "    }\n",
              "\n",
              "    [theme=dark] .colab-df-convert:hover {\n",
              "      background-color: #434B5C;\n",
              "      box-shadow: 0px 1px 3px 1px rgba(0, 0, 0, 0.15);\n",
              "      filter: drop-shadow(0px 1px 2px rgba(0, 0, 0, 0.3));\n",
              "      fill: #FFFFFF;\n",
              "    }\n",
              "  </style>\n",
              "\n",
              "    <script>\n",
              "      const buttonEl =\n",
              "        document.querySelector('#df-ad82b38a-df56-4969-a267-9d80869ea2b6 button.colab-df-convert');\n",
              "      buttonEl.style.display =\n",
              "        google.colab.kernel.accessAllowed ? 'block' : 'none';\n",
              "\n",
              "      async function convertToInteractive(key) {\n",
              "        const element = document.querySelector('#df-ad82b38a-df56-4969-a267-9d80869ea2b6');\n",
              "        const dataTable =\n",
              "          await google.colab.kernel.invokeFunction('convertToInteractive',\n",
              "                                                    [key], {});\n",
              "        if (!dataTable) return;\n",
              "\n",
              "        const docLinkHtml = 'Like what you see? Visit the ' +\n",
              "          '<a target=\"_blank\" href=https://colab.research.google.com/notebooks/data_table.ipynb>data table notebook</a>'\n",
              "          + ' to learn more about interactive tables.';\n",
              "        element.innerHTML = '';\n",
              "        dataTable['output_type'] = 'display_data';\n",
              "        await google.colab.output.renderOutput(dataTable, element);\n",
              "        const docLink = document.createElement('div');\n",
              "        docLink.innerHTML = docLinkHtml;\n",
              "        element.appendChild(docLink);\n",
              "      }\n",
              "    </script>\n",
              "  </div>\n",
              "\n",
              "\n",
              "<div id=\"df-f98eba1d-b21f-45b6-946d-fb4e3a4bec62\">\n",
              "  <button class=\"colab-df-quickchart\" onclick=\"quickchart('df-f98eba1d-b21f-45b6-946d-fb4e3a4bec62')\"\n",
              "            title=\"Suggest charts\"\n",
              "            style=\"display:none;\">\n",
              "\n",
              "<svg xmlns=\"http://www.w3.org/2000/svg\" height=\"24px\"viewBox=\"0 0 24 24\"\n",
              "     width=\"24px\">\n",
              "    <g>\n",
              "        <path d=\"M19 3H5c-1.1 0-2 .9-2 2v14c0 1.1.9 2 2 2h14c1.1 0 2-.9 2-2V5c0-1.1-.9-2-2-2zM9 17H7v-7h2v7zm4 0h-2V7h2v10zm4 0h-2v-4h2v4z\"/>\n",
              "    </g>\n",
              "</svg>\n",
              "  </button>\n",
              "\n",
              "<style>\n",
              "  .colab-df-quickchart {\n",
              "      --bg-color: #E8F0FE;\n",
              "      --fill-color: #1967D2;\n",
              "      --hover-bg-color: #E2EBFA;\n",
              "      --hover-fill-color: #174EA6;\n",
              "      --disabled-fill-color: #AAA;\n",
              "      --disabled-bg-color: #DDD;\n",
              "  }\n",
              "\n",
              "  [theme=dark] .colab-df-quickchart {\n",
              "      --bg-color: #3B4455;\n",
              "      --fill-color: #D2E3FC;\n",
              "      --hover-bg-color: #434B5C;\n",
              "      --hover-fill-color: #FFFFFF;\n",
              "      --disabled-bg-color: #3B4455;\n",
              "      --disabled-fill-color: #666;\n",
              "  }\n",
              "\n",
              "  .colab-df-quickchart {\n",
              "    background-color: var(--bg-color);\n",
              "    border: none;\n",
              "    border-radius: 50%;\n",
              "    cursor: pointer;\n",
              "    display: none;\n",
              "    fill: var(--fill-color);\n",
              "    height: 32px;\n",
              "    padding: 0;\n",
              "    width: 32px;\n",
              "  }\n",
              "\n",
              "  .colab-df-quickchart:hover {\n",
              "    background-color: var(--hover-bg-color);\n",
              "    box-shadow: 0 1px 2px rgba(60, 64, 67, 0.3), 0 1px 3px 1px rgba(60, 64, 67, 0.15);\n",
              "    fill: var(--button-hover-fill-color);\n",
              "  }\n",
              "\n",
              "  .colab-df-quickchart-complete:disabled,\n",
              "  .colab-df-quickchart-complete:disabled:hover {\n",
              "    background-color: var(--disabled-bg-color);\n",
              "    fill: var(--disabled-fill-color);\n",
              "    box-shadow: none;\n",
              "  }\n",
              "\n",
              "  .colab-df-spinner {\n",
              "    border: 2px solid var(--fill-color);\n",
              "    border-color: transparent;\n",
              "    border-bottom-color: var(--fill-color);\n",
              "    animation:\n",
              "      spin 1s steps(1) infinite;\n",
              "  }\n",
              "\n",
              "  @keyframes spin {\n",
              "    0% {\n",
              "      border-color: transparent;\n",
              "      border-bottom-color: var(--fill-color);\n",
              "      border-left-color: var(--fill-color);\n",
              "    }\n",
              "    20% {\n",
              "      border-color: transparent;\n",
              "      border-left-color: var(--fill-color);\n",
              "      border-top-color: var(--fill-color);\n",
              "    }\n",
              "    30% {\n",
              "      border-color: transparent;\n",
              "      border-left-color: var(--fill-color);\n",
              "      border-top-color: var(--fill-color);\n",
              "      border-right-color: var(--fill-color);\n",
              "    }\n",
              "    40% {\n",
              "      border-color: transparent;\n",
              "      border-right-color: var(--fill-color);\n",
              "      border-top-color: var(--fill-color);\n",
              "    }\n",
              "    60% {\n",
              "      border-color: transparent;\n",
              "      border-right-color: var(--fill-color);\n",
              "    }\n",
              "    80% {\n",
              "      border-color: transparent;\n",
              "      border-right-color: var(--fill-color);\n",
              "      border-bottom-color: var(--fill-color);\n",
              "    }\n",
              "    90% {\n",
              "      border-color: transparent;\n",
              "      border-bottom-color: var(--fill-color);\n",
              "    }\n",
              "  }\n",
              "</style>\n",
              "\n",
              "  <script>\n",
              "    async function quickchart(key) {\n",
              "      const quickchartButtonEl =\n",
              "        document.querySelector('#' + key + ' button');\n",
              "      quickchartButtonEl.disabled = true;  // To prevent multiple clicks.\n",
              "      quickchartButtonEl.classList.add('colab-df-spinner');\n",
              "      try {\n",
              "        const charts = await google.colab.kernel.invokeFunction(\n",
              "            'suggestCharts', [key], {});\n",
              "      } catch (error) {\n",
              "        console.error('Error during call to suggestCharts:', error);\n",
              "      }\n",
              "      quickchartButtonEl.classList.remove('colab-df-spinner');\n",
              "      quickchartButtonEl.classList.add('colab-df-quickchart-complete');\n",
              "    }\n",
              "    (() => {\n",
              "      let quickchartButtonEl =\n",
              "        document.querySelector('#df-f98eba1d-b21f-45b6-946d-fb4e3a4bec62 button');\n",
              "      quickchartButtonEl.style.display =\n",
              "        google.colab.kernel.accessAllowed ? 'block' : 'none';\n",
              "    })();\n",
              "  </script>\n",
              "</div>\n",
              "\n",
              "    </div>\n",
              "  </div>\n"
            ],
            "application/vnd.google.colaboratory.intrinsic+json": {
              "type": "dataframe",
              "summary": "{\n  \"name\": \"result[:5]\",\n  \"rows\": 5,\n  \"fields\": [\n    {\n      \"column\": \"surname\",\n      \"properties\": {\n        \"dtype\": \"string\",\n        \"num_unique_values\": 5,\n        \"samples\": [\n          \"Li\",\n          \"Smith\",\n          \"Lab\"\n        ],\n        \"semantic_type\": \"\",\n        \"description\": \"\"\n      }\n    },\n    {\n      \"column\": \"login\",\n      \"properties\": {\n        \"dtype\": \"number\",\n        \"std\": 1,\n        \"min\": 2,\n        \"max\": 4,\n        \"num_unique_values\": 3,\n        \"samples\": [\n          4,\n          3,\n          2\n        ],\n        \"semantic_type\": \"\",\n        \"description\": \"\"\n      }\n    },\n    {\n      \"column\": \"name\",\n      \"properties\": {\n        \"dtype\": \"number\",\n        \"std\": 1,\n        \"min\": 2,\n        \"max\": 4,\n        \"num_unique_values\": 3,\n        \"samples\": [\n          4,\n          3,\n          2\n        ],\n        \"semantic_type\": \"\",\n        \"description\": \"\"\n      }\n    },\n    {\n      \"column\": \"company\",\n      \"properties\": {\n        \"dtype\": \"number\",\n        \"std\": 1,\n        \"min\": 0,\n        \"max\": 3,\n        \"num_unique_values\": 4,\n        \"samples\": [\n          2,\n          1,\n          3\n        ],\n        \"semantic_type\": \"\",\n        \"description\": \"\"\n      }\n    },\n    {\n      \"column\": \"location\",\n      \"properties\": {\n        \"dtype\": \"number\",\n        \"std\": 1,\n        \"min\": 2,\n        \"max\": 4,\n        \"num_unique_values\": 3,\n        \"samples\": [\n          4,\n          3,\n          2\n        ],\n        \"semantic_type\": \"\",\n        \"description\": \"\"\n      }\n    },\n    {\n      \"column\": \"email\",\n      \"properties\": {\n        \"dtype\": \"number\",\n        \"std\": 1,\n        \"min\": 0,\n        \"max\": 3,\n        \"num_unique_values\": 3,\n        \"samples\": [\n          2,\n          3,\n          0\n        ],\n        \"semantic_type\": \"\",\n        \"description\": \"\"\n      }\n    },\n    {\n      \"column\": \"hireable\",\n      \"properties\": {\n        \"dtype\": \"number\",\n        \"std\": 0,\n        \"min\": 0,\n        \"max\": 1,\n        \"num_unique_values\": 2,\n        \"samples\": [\n          0,\n          1\n        ],\n        \"semantic_type\": \"\",\n        \"description\": \"\"\n      }\n    },\n    {\n      \"column\": \"bio\",\n      \"properties\": {\n        \"dtype\": \"number\",\n        \"std\": 1,\n        \"min\": 0,\n        \"max\": 4,\n        \"num_unique_values\": 4,\n        \"samples\": [\n          4,\n          0\n        ],\n        \"semantic_type\": \"\",\n        \"description\": \"\"\n      }\n    },\n    {\n      \"column\": \"public_repos\",\n      \"properties\": {\n        \"dtype\": \"number\",\n        \"std\": 1,\n        \"min\": 2,\n        \"max\": 4,\n        \"num_unique_values\": 3,\n        \"samples\": [\n          4,\n          3\n        ],\n        \"semantic_type\": \"\",\n        \"description\": \"\"\n      }\n    },\n    {\n      \"column\": \"followers\",\n      \"properties\": {\n        \"dtype\": \"number\",\n        \"std\": 1,\n        \"min\": 2,\n        \"max\": 4,\n        \"num_unique_values\": 3,\n        \"samples\": [\n          4,\n          3\n        ],\n        \"semantic_type\": \"\",\n        \"description\": \"\"\n      }\n    },\n    {\n      \"column\": \"following\",\n      \"properties\": {\n        \"dtype\": \"number\",\n        \"std\": 1,\n        \"min\": 2,\n        \"max\": 4,\n        \"num_unique_values\": 3,\n        \"samples\": [\n          4,\n          3\n        ],\n        \"semantic_type\": \"\",\n        \"description\": \"\"\n      }\n    },\n    {\n      \"column\": \"created_at\",\n      \"properties\": {\n        \"dtype\": \"number\",\n        \"std\": 1,\n        \"min\": 2,\n        \"max\": 4,\n        \"num_unique_values\": 3,\n        \"samples\": [\n          4,\n          3\n        ],\n        \"semantic_type\": \"\",\n        \"description\": \"\"\n      }\n    },\n    {\n      \"column\": \"Unnamed: 11\",\n      \"properties\": {\n        \"dtype\": \"number\",\n        \"std\": 0,\n        \"min\": 0,\n        \"max\": 0,\n        \"num_unique_values\": 1,\n        \"samples\": [\n          0\n        ],\n        \"semantic_type\": \"\",\n        \"description\": \"\"\n      }\n    },\n    {\n      \"column\": \"Unnamed: 12\",\n      \"properties\": {\n        \"dtype\": \"number\",\n        \"std\": 0,\n        \"min\": 0,\n        \"max\": 0,\n        \"num_unique_values\": 1,\n        \"samples\": [\n          0\n        ],\n        \"semantic_type\": \"\",\n        \"description\": \"\"\n      }\n    },\n    {\n      \"column\": \"raw_data_of_company_name\",\n      \"properties\": {\n        \"dtype\": \"number\",\n        \"std\": 1,\n        \"min\": 0,\n        \"max\": 3,\n        \"num_unique_values\": 4,\n        \"samples\": [\n          2\n        ],\n        \"semantic_type\": \"\",\n        \"description\": \"\"\n      }\n    }\n  ]\n}"
            }
          },
          "metadata": {},
          "execution_count": 88
        }
      ]
    },
    {
      "cell_type": "code",
      "source": [
        "final = list(result.index[:2])\n",
        "final.sort()\n",
        "for sname in final:\n",
        "  print(sname,end=',')"
      ],
      "metadata": {
        "colab": {
          "base_uri": "https://localhost:8080/"
        },
        "id": "EKibMcUWM936",
        "outputId": "c0cc8132-987a-4de2-adc4-25b4fd2a57c1"
      },
      "execution_count": null,
      "outputs": [
        {
          "output_type": "stream",
          "name": "stdout",
          "text": [
            "Li,Wang,"
          ]
        }
      ]
    },
    {
      "cell_type": "markdown",
      "source": [
        "## Project's Inferences"
      ],
      "metadata": {
        "id": "UNCaYPt_TWom"
      }
    },
    {
      "cell_type": "code",
      "source": [
        "import numpy as np, pandas as pd\n",
        "import matplotlib.pyplot as plt\n",
        "plt.style = 'seaborn'"
      ],
      "metadata": {
        "id": "yZX3kTZ-ag6E"
      },
      "execution_count": null,
      "outputs": []
    },
    {
      "cell_type": "code",
      "source": [
        "user_df = pd.read_csv('users.csv')\n",
        "repo_df = pd.read_csv('repositories.csv')"
      ],
      "metadata": {
        "id": "3Y25o6zYa_9V"
      },
      "execution_count": null,
      "outputs": []
    },
    {
      "cell_type": "code",
      "source": [
        "df = pd.merge(user_df,repo_df,on='login',how='inner')"
      ],
      "metadata": {
        "id": "zUh4ufnks0F1"
      },
      "execution_count": null,
      "outputs": []
    },
    {
      "cell_type": "markdown",
      "source": [
        "### Data Analysis"
      ],
      "metadata": {
        "id": "ZFO-oxRKxSpi"
      }
    },
    {
      "cell_type": "markdown",
      "source": [
        "#### has_projects and followers"
      ],
      "metadata": {
        "id": "pDksM5BboZ3i"
      }
    },
    {
      "cell_type": "code",
      "source": [
        "X = df.has_projects.values\n",
        "X = X.reshape(len(X),1)\n",
        "y = df.followers.values\n",
        "y = y.reshape(len(y),1)"
      ],
      "metadata": {
        "id": "LILe6Zz8Mzfu"
      },
      "execution_count": null,
      "outputs": []
    },
    {
      "cell_type": "code",
      "source": [
        "from sklearn.linear_model import LinearRegression\n",
        "lr = LinearRegression()\n",
        "lr.fit(X,y)\n",
        "lr.coef_[0][0]"
      ],
      "metadata": {
        "colab": {
          "base_uri": "https://localhost:8080/"
        },
        "id": "5l5f2ts0QATP",
        "outputId": "0d3eae2f-ead1-44ab-cbef-6331bc376108"
      },
      "execution_count": null,
      "outputs": [
        {
          "output_type": "execute_result",
          "data": {
            "text/plain": [
              "88.56665062137796"
            ]
          },
          "metadata": {},
          "execution_count": 253
        }
      ]
    },
    {
      "cell_type": "markdown",
      "source": [
        "#### For stargazers_count and has_projects"
      ],
      "metadata": {
        "id": "8npxRXPGddo2"
      }
    },
    {
      "cell_type": "code",
      "source": [
        "X2 = repo_df.has_projects.values\n",
        "X2 = X2.reshape(len(X2),1)\n",
        "\n",
        "y2 = repo_df.stargazers_count.values\n",
        "y2 = y2.reshape(len(y2),1)"
      ],
      "metadata": {
        "id": "K67QV5SfdqYf"
      },
      "execution_count": null,
      "outputs": []
    },
    {
      "cell_type": "code",
      "source": [
        "from sklearn.linear_model import LinearRegression\n",
        "lr2 = LinearRegression()\n",
        "lr2.fit(X2,y2)\n",
        "lr2.coef_[0][0]"
      ],
      "metadata": {
        "colab": {
          "base_uri": "https://localhost:8080/"
        },
        "id": "TZkcgoq0g754",
        "outputId": "d4de744f-f912-41fd-af97-8c128e1402fc"
      },
      "execution_count": null,
      "outputs": [
        {
          "output_type": "execute_result",
          "data": {
            "text/plain": [
              "-130.99936471415313"
            ]
          },
          "metadata": {},
          "execution_count": 279
        }
      ]
    },
    {
      "cell_type": "markdown",
      "source": [
        "### Inference"
      ],
      "metadata": {
        "id": "oy2KotC4xQCA"
      }
    },
    {
      "cell_type": "code",
      "source": [
        "'''\n",
        "Normally, if a repo has projects, it is more likely to get more star.\n",
        "But I saw a negetive trend in a repo-data\n",
        "has_projects and stargazers_count\n",
        "'''"
      ],
      "metadata": {
        "id": "M7UCs2MJxg2W"
      },
      "execution_count": null,
      "outputs": []
    },
    {
      "cell_type": "markdown",
      "source": [
        "### Rough"
      ],
      "metadata": {
        "id": "Lm3iPl_jh5_7"
      }
    },
    {
      "cell_type": "code",
      "source": [
        "new = df.loc[df['has_projects']==True].sort_values(by='followers',ascending=False)\n",
        "new.groupby('login').followers.sum()"
      ],
      "metadata": {
        "colab": {
          "base_uri": "https://localhost:8080/",
          "height": 489
        },
        "id": "yigENVy0h8LU",
        "outputId": "483229ef-97a3-4b35-cb3f-e19a37e36053"
      },
      "execution_count": null,
      "outputs": [
        {
          "output_type": "execute_result",
          "data": {
            "text/plain": [
              "login\n",
              "0xB10C            24120\n",
              "0xabu               420\n",
              "19reborn           1955\n",
              "AIWintermuteAI    12328\n",
              "ANYbotics         42496\n",
              "                  ...  \n",
              "zhendongsu          188\n",
              "zhengyuf            632\n",
              "zimrick             650\n",
              "zita-ch            1309\n",
              "zj-dong            1710\n",
              "Name: followers, Length: 470, dtype: int64"
            ],
            "text/html": [
              "<div>\n",
              "<style scoped>\n",
              "    .dataframe tbody tr th:only-of-type {\n",
              "        vertical-align: middle;\n",
              "    }\n",
              "\n",
              "    .dataframe tbody tr th {\n",
              "        vertical-align: top;\n",
              "    }\n",
              "\n",
              "    .dataframe thead th {\n",
              "        text-align: right;\n",
              "    }\n",
              "</style>\n",
              "<table border=\"1\" class=\"dataframe\">\n",
              "  <thead>\n",
              "    <tr style=\"text-align: right;\">\n",
              "      <th></th>\n",
              "      <th>followers</th>\n",
              "    </tr>\n",
              "    <tr>\n",
              "      <th>login</th>\n",
              "      <th></th>\n",
              "    </tr>\n",
              "  </thead>\n",
              "  <tbody>\n",
              "    <tr>\n",
              "      <th>0xB10C</th>\n",
              "      <td>24120</td>\n",
              "    </tr>\n",
              "    <tr>\n",
              "      <th>0xabu</th>\n",
              "      <td>420</td>\n",
              "    </tr>\n",
              "    <tr>\n",
              "      <th>19reborn</th>\n",
              "      <td>1955</td>\n",
              "    </tr>\n",
              "    <tr>\n",
              "      <th>AIWintermuteAI</th>\n",
              "      <td>12328</td>\n",
              "    </tr>\n",
              "    <tr>\n",
              "      <th>ANYbotics</th>\n",
              "      <td>42496</td>\n",
              "    </tr>\n",
              "    <tr>\n",
              "      <th>...</th>\n",
              "      <td>...</td>\n",
              "    </tr>\n",
              "    <tr>\n",
              "      <th>zhendongsu</th>\n",
              "      <td>188</td>\n",
              "    </tr>\n",
              "    <tr>\n",
              "      <th>zhengyuf</th>\n",
              "      <td>632</td>\n",
              "    </tr>\n",
              "    <tr>\n",
              "      <th>zimrick</th>\n",
              "      <td>650</td>\n",
              "    </tr>\n",
              "    <tr>\n",
              "      <th>zita-ch</th>\n",
              "      <td>1309</td>\n",
              "    </tr>\n",
              "    <tr>\n",
              "      <th>zj-dong</th>\n",
              "      <td>1710</td>\n",
              "    </tr>\n",
              "  </tbody>\n",
              "</table>\n",
              "<p>470 rows × 1 columns</p>\n",
              "</div><br><label><b>dtype:</b> int64</label>"
            ]
          },
          "metadata": {},
          "execution_count": 273
        }
      ]
    }
  ]
}